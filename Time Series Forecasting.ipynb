{
 "cells": [
  {
   "cell_type": "code",
   "execution_count": 2,
   "id": "86f1b462",
   "metadata": {},
   "outputs": [],
   "source": [
    "import pandas as pd"
   ]
  },
  {
   "cell_type": "code",
   "execution_count": 3,
   "id": "e711c09a",
   "metadata": {},
   "outputs": [
    {
     "data": {
      "text/html": [
       "<div>\n",
       "<style scoped>\n",
       "    .dataframe tbody tr th:only-of-type {\n",
       "        vertical-align: middle;\n",
       "    }\n",
       "\n",
       "    .dataframe tbody tr th {\n",
       "        vertical-align: top;\n",
       "    }\n",
       "\n",
       "    .dataframe thead th {\n",
       "        text-align: right;\n",
       "    }\n",
       "</style>\n",
       "<table border=\"1\" class=\"dataframe\">\n",
       "  <thead>\n",
       "    <tr style=\"text-align: right;\">\n",
       "      <th></th>\n",
       "      <th>Date</th>\n",
       "      <th>store</th>\n",
       "      <th>product</th>\n",
       "      <th>number_sold</th>\n",
       "    </tr>\n",
       "  </thead>\n",
       "  <tbody>\n",
       "    <tr>\n",
       "      <th>0</th>\n",
       "      <td>2019-01-01</td>\n",
       "      <td>0</td>\n",
       "      <td>0</td>\n",
       "      <td>845</td>\n",
       "    </tr>\n",
       "    <tr>\n",
       "      <th>1</th>\n",
       "      <td>2019-01-02</td>\n",
       "      <td>0</td>\n",
       "      <td>0</td>\n",
       "      <td>851</td>\n",
       "    </tr>\n",
       "    <tr>\n",
       "      <th>2</th>\n",
       "      <td>2019-01-03</td>\n",
       "      <td>0</td>\n",
       "      <td>0</td>\n",
       "      <td>840</td>\n",
       "    </tr>\n",
       "    <tr>\n",
       "      <th>3</th>\n",
       "      <td>2019-01-04</td>\n",
       "      <td>0</td>\n",
       "      <td>0</td>\n",
       "      <td>842</td>\n",
       "    </tr>\n",
       "    <tr>\n",
       "      <th>4</th>\n",
       "      <td>2019-01-05</td>\n",
       "      <td>0</td>\n",
       "      <td>0</td>\n",
       "      <td>845</td>\n",
       "    </tr>\n",
       "  </tbody>\n",
       "</table>\n",
       "</div>"
      ],
      "text/plain": [
       "         Date  store  product  number_sold\n",
       "0  2019-01-01      0        0          845\n",
       "1  2019-01-02      0        0          851\n",
       "2  2019-01-03      0        0          840\n",
       "3  2019-01-04      0        0          842\n",
       "4  2019-01-05      0        0          845"
      ]
     },
     "execution_count": 3,
     "metadata": {},
     "output_type": "execute_result"
    }
   ],
   "source": [
    "df=pd.read_csv('timetest.csv')\n",
    "df.head()"
   ]
  },
  {
   "cell_type": "code",
   "execution_count": 4,
   "id": "681448dc",
   "metadata": {},
   "outputs": [],
   "source": [
    "sample=df"
   ]
  },
  {
   "cell_type": "code",
   "execution_count": 5,
   "id": "0824eeca",
   "metadata": {},
   "outputs": [],
   "source": [
    "from sklearn.preprocessing import MinMaxScaler\n",
    "import numpy as np\n",
    "scale=MinMaxScaler()\n",
    "sample['number_sold']=scale.fit_transform(np.array(sample['number_sold']).reshape(-1,1))"
   ]
  },
  {
   "cell_type": "code",
   "execution_count": 6,
   "id": "17e81016",
   "metadata": {},
   "outputs": [],
   "source": [
    "data=sample['number_sold'].values.reshape(-1,1)"
   ]
  },
  {
   "cell_type": "code",
   "execution_count": 7,
   "id": "858ea3c2",
   "metadata": {},
   "outputs": [],
   "source": [
    "\n",
    "train_size=int(len(data)*0.8)\n",
    "train_data=data[:train_size]\n",
    "test_data=data[train_size:]"
   ]
  },
  {
   "cell_type": "code",
   "execution_count": 8,
   "id": "13e23196",
   "metadata": {},
   "outputs": [],
   "source": [
    "train_X,train_y=[],[]\n",
    "for i in range(len(train_data)-1):\n",
    "    train_X.append(train_data[i])\n",
    "    train_y.append(train_data[i+1])\n",
    "train_X=np.array(train_X)\n",
    "train_y=np.array(train_y)\n",
    "train_X=np.reshape(train_X,(train_X.shape[0],1,train_X.shape[1]))"
   ]
  },
  {
   "cell_type": "code",
   "execution_count": 15,
   "id": "7a4f2c6d",
   "metadata": {},
   "outputs": [],
   "source": [
    "from tensorflow.keras.models import Sequential\n",
    "from tensorflow.keras.layers import LSTM,Dense,SimpleRNN\n",
    "model=Sequential()\n",
    "model.add(SimpleRNN(50,activation='relu',input_shape=(1,1)))\n",
    "model.add(Dense(1))\n",
    "model.compile(optimizer='adam',loss='mean_squared_error')"
   ]
  },
  {
   "cell_type": "code",
   "execution_count": 16,
   "id": "9063443d",
   "metadata": {},
   "outputs": [
    {
     "name": "stdout",
     "output_type": "stream",
     "text": [
      "Epoch 1/10\n",
      "20439/20439 [==============================] - 29s 1ms/step - loss: 0.0016\n",
      "Epoch 2/10\n",
      "20439/20439 [==============================] - 28s 1ms/step - loss: 5.1399e-04\n",
      "Epoch 3/10\n",
      "20439/20439 [==============================] - 27s 1ms/step - loss: 5.1089e-04\n",
      "Epoch 4/10\n",
      "20439/20439 [==============================] - 27s 1ms/step - loss: 5.1542e-04\n",
      "Epoch 5/10\n",
      "20439/20439 [==============================] - 27s 1ms/step - loss: 5.0654e-04\n",
      "Epoch 6/10\n",
      "20439/20439 [==============================] - 31s 2ms/step - loss: 5.0538e-04\n",
      "Epoch 7/10\n",
      "20439/20439 [==============================] - 28s 1ms/step - loss: 5.0358e-04\n",
      "Epoch 8/10\n",
      "20439/20439 [==============================] - 27s 1ms/step - loss: 4.9992e-04\n",
      "Epoch 9/10\n",
      "20439/20439 [==============================] - 23s 1ms/step - loss: 4.9478e-04\n",
      "Epoch 10/10\n",
      "20439/20439 [==============================] - 19s 929us/step - loss: 4.9624e-04\n"
     ]
    },
    {
     "data": {
      "text/plain": [
       "<keras.callbacks.History at 0x1fd809c6410>"
      ]
     },
     "execution_count": 16,
     "metadata": {},
     "output_type": "execute_result"
    }
   ],
   "source": [
    "model.fit(train_X,train_y,epochs=10,batch_size=1)"
   ]
  },
  {
   "cell_type": "code",
   "execution_count": 11,
   "id": "f7ede801",
   "metadata": {},
   "outputs": [],
   "source": [
    "test_X,test_y=[],[]\n",
    "for i in range(len(test_data)-1):\n",
    "    test_X.append(test_data[i])\n",
    "    test_y.append(test_data[i])\n",
    "test_X=np.array(test_X)\n",
    "test_y=np.array(test_y)\n",
    "test_X=np.reshape(test_X,(test_X.shape[0],1,test_X.shape[1]))"
   ]
  },
  {
   "cell_type": "code",
   "execution_count": 12,
   "id": "77b883dd",
   "metadata": {},
   "outputs": [
    {
     "data": {
      "text/plain": [
       "(5109, 1, 1)"
      ]
     },
     "execution_count": 12,
     "metadata": {},
     "output_type": "execute_result"
    }
   ],
   "source": [
    "test_X.shape"
   ]
  },
  {
   "cell_type": "code",
   "execution_count": 17,
   "id": "156c7e2c",
   "metadata": {},
   "outputs": [
    {
     "name": "stdout",
     "output_type": "stream",
     "text": [
      "160/160 [==============================] - 0s 649us/step\n"
     ]
    }
   ],
   "source": [
    "predict=model.predict(test_X)"
   ]
  },
  {
   "cell_type": "code",
   "execution_count": 18,
   "id": "8c0d2dc2",
   "metadata": {},
   "outputs": [
    {
     "data": {
      "text/plain": [
       "0.4104660154577838"
      ]
     },
     "execution_count": 18,
     "metadata": {},
     "output_type": "execute_result"
    }
   ],
   "source": [
    "ypred=scale.inverse_transform(predict)\n",
    "ytest=scale.inverse_transform(test_y)\n",
    "mape=np.mean(np.abs((ytest-ypred)/ytest))*100\n",
    "mape"
   ]
  },
  {
   "cell_type": "markdown",
   "id": "82d05ff0",
   "metadata": {},
   "source": [
    "# ******************"
   ]
  },
  {
   "cell_type": "code",
   "execution_count": 19,
   "id": "ada8d655",
   "metadata": {},
   "outputs": [
    {
     "data": {
      "text/html": [
       "<div>\n",
       "<style scoped>\n",
       "    .dataframe tbody tr th:only-of-type {\n",
       "        vertical-align: middle;\n",
       "    }\n",
       "\n",
       "    .dataframe tbody tr th {\n",
       "        vertical-align: top;\n",
       "    }\n",
       "\n",
       "    .dataframe thead th {\n",
       "        text-align: right;\n",
       "    }\n",
       "</style>\n",
       "<table border=\"1\" class=\"dataframe\">\n",
       "  <thead>\n",
       "    <tr style=\"text-align: right;\">\n",
       "      <th></th>\n",
       "      <th>Date</th>\n",
       "      <th>store</th>\n",
       "      <th>product</th>\n",
       "      <th>number_sold</th>\n",
       "    </tr>\n",
       "  </thead>\n",
       "  <tbody>\n",
       "    <tr>\n",
       "      <th>0</th>\n",
       "      <td>2019-01-01</td>\n",
       "      <td>0</td>\n",
       "      <td>0</td>\n",
       "      <td>845</td>\n",
       "    </tr>\n",
       "    <tr>\n",
       "      <th>1</th>\n",
       "      <td>2019-01-02</td>\n",
       "      <td>0</td>\n",
       "      <td>0</td>\n",
       "      <td>851</td>\n",
       "    </tr>\n",
       "    <tr>\n",
       "      <th>2</th>\n",
       "      <td>2019-01-03</td>\n",
       "      <td>0</td>\n",
       "      <td>0</td>\n",
       "      <td>840</td>\n",
       "    </tr>\n",
       "    <tr>\n",
       "      <th>3</th>\n",
       "      <td>2019-01-04</td>\n",
       "      <td>0</td>\n",
       "      <td>0</td>\n",
       "      <td>842</td>\n",
       "    </tr>\n",
       "    <tr>\n",
       "      <th>4</th>\n",
       "      <td>2019-01-05</td>\n",
       "      <td>0</td>\n",
       "      <td>0</td>\n",
       "      <td>845</td>\n",
       "    </tr>\n",
       "  </tbody>\n",
       "</table>\n",
       "</div>"
      ],
      "text/plain": [
       "         Date  store  product  number_sold\n",
       "0  2019-01-01      0        0          845\n",
       "1  2019-01-02      0        0          851\n",
       "2  2019-01-03      0        0          840\n",
       "3  2019-01-04      0        0          842\n",
       "4  2019-01-05      0        0          845"
      ]
     },
     "execution_count": 19,
     "metadata": {},
     "output_type": "execute_result"
    }
   ],
   "source": [
    "df1=pd.read_csv('timetest.csv')\n",
    "df1.head()"
   ]
  },
  {
   "cell_type": "code",
   "execution_count": 22,
   "id": "3be24bc2",
   "metadata": {},
   "outputs": [],
   "source": [
    "from sklearn.preprocessing import MinMaxScaler\n",
    "scaler=MinMaxScaler()\n",
    "df1['number_sold']=scaler.fit_transform(np.array(df1['number_sold']).reshape(-1,1))"
   ]
  },
  {
   "cell_type": "code",
   "execution_count": 24,
   "id": "a5cb16e0",
   "metadata": {},
   "outputs": [],
   "source": [
    "data=df1['number_sold'].values.reshape(-1,1)"
   ]
  },
  {
   "cell_type": "code",
   "execution_count": 25,
   "id": "a3ee761a",
   "metadata": {},
   "outputs": [],
   "source": [
    "train_size=int(len(data)*0.8)"
   ]
  },
  {
   "cell_type": "code",
   "execution_count": 26,
   "id": "848d95cd",
   "metadata": {},
   "outputs": [],
   "source": [
    "train=data[:train_size]\n",
    "test=data[train_size:]"
   ]
  },
  {
   "cell_type": "code",
   "execution_count": 27,
   "id": "59308ed8",
   "metadata": {},
   "outputs": [],
   "source": [
    "train_X,train_y=[],[]\n",
    "for i in range(len(train)-1):\n",
    "    train_X.append(train[i])\n",
    "    train_y.append(train[i+1])"
   ]
  },
  {
   "cell_type": "code",
   "execution_count": 28,
   "id": "0c7ce5d3",
   "metadata": {},
   "outputs": [],
   "source": [
    "train_X=np.array(train_X)\n",
    "train_y=np.array(train_y)"
   ]
  },
  {
   "cell_type": "code",
   "execution_count": 29,
   "id": "250376a5",
   "metadata": {},
   "outputs": [],
   "source": [
    "train_X=np.reshape(train_X,(train_X.shape[0],1,train_X.shape[1]))"
   ]
  },
  {
   "cell_type": "code",
   "execution_count": 43,
   "id": "2e646fee",
   "metadata": {},
   "outputs": [],
   "source": [
    "from tensorflow.keras.models import Sequential\n",
    "from tensorflow.keras.layers import LSTM,Dense,Bidirectional\n",
    "model=Sequential()\n",
    "model.add(Bidirectional(LSTM(50,input_shape=(1,1))))\n",
    "model.add(Dense(1))\n",
    "model.compile(loss='mean_squared_error',optimizer='Adam')"
   ]
  },
  {
   "cell_type": "code",
   "execution_count": 45,
   "id": "5a6b622a",
   "metadata": {},
   "outputs": [
    {
     "name": "stdout",
     "output_type": "stream",
     "text": [
      "Epoch 1/10\n",
      "20439/20439 [==============================] - 27s 1ms/step - loss: 0.0015\n",
      "Epoch 2/10\n",
      "20439/20439 [==============================] - 26s 1ms/step - loss: 5.3897e-04\n",
      "Epoch 3/10\n",
      "20439/20439 [==============================] - 25s 1ms/step - loss: 5.3193e-04\n",
      "Epoch 4/10\n",
      "20439/20439 [==============================] - 26s 1ms/step - loss: 5.2199e-04\n",
      "Epoch 5/10\n",
      "20439/20439 [==============================] - 25s 1ms/step - loss: 5.1999e-04\n",
      "Epoch 6/10\n",
      "20439/20439 [==============================] - 26s 1ms/step - loss: 5.0928e-04\n",
      "Epoch 7/10\n",
      "20439/20439 [==============================] - 25s 1ms/step - loss: 5.0451e-04\n",
      "Epoch 8/10\n",
      "20439/20439 [==============================] - 25s 1ms/step - loss: 5.0369e-04\n",
      "Epoch 9/10\n",
      "20439/20439 [==============================] - 25s 1ms/step - loss: 4.9965e-04\n",
      "Epoch 10/10\n",
      "20439/20439 [==============================] - 25s 1ms/step - loss: 4.9304e-04\n"
     ]
    },
    {
     "data": {
      "text/plain": [
       "<keras.callbacks.History at 0x1fd863f3010>"
      ]
     },
     "execution_count": 45,
     "metadata": {},
     "output_type": "execute_result"
    }
   ],
   "source": [
    "model.fit(train_X,train_y,epochs=10,batch_size=1)"
   ]
  },
  {
   "cell_type": "code",
   "execution_count": 33,
   "id": "37728bd5",
   "metadata": {},
   "outputs": [],
   "source": [
    "test_X,test_y=[],[]\n",
    "for i in range(len(test)-1):\n",
    "    test_X.append(test[i])\n",
    "    test_y.append(test[i+1])"
   ]
  },
  {
   "cell_type": "code",
   "execution_count": 34,
   "id": "5739d64d",
   "metadata": {},
   "outputs": [],
   "source": [
    "test_X=np.array(test_X)\n",
    "test_y=np.array(test_y)"
   ]
  },
  {
   "cell_type": "code",
   "execution_count": 36,
   "id": "deae61cd",
   "metadata": {},
   "outputs": [],
   "source": [
    "test_X=np.reshape(test_X,(test_X.shape[0],1,test_X.shape[1]))"
   ]
  },
  {
   "cell_type": "code",
   "execution_count": 37,
   "id": "59724309",
   "metadata": {},
   "outputs": [
    {
     "name": "stdout",
     "output_type": "stream",
     "text": [
      "160/160 [==============================] - 0s 732us/step\n"
     ]
    }
   ],
   "source": [
    "predict=model.predict(test_X)"
   ]
  },
  {
   "cell_type": "code",
   "execution_count": 38,
   "id": "c3542cc1",
   "metadata": {},
   "outputs": [],
   "source": [
    "ypred=scaler.inverse_transform(predict)"
   ]
  },
  {
   "cell_type": "code",
   "execution_count": 39,
   "id": "52d94106",
   "metadata": {},
   "outputs": [],
   "source": [
    "ytest=scaler.inverse_transform(test_y)"
   ]
  },
  {
   "cell_type": "code",
   "execution_count": 40,
   "id": "6c1e67c9",
   "metadata": {},
   "outputs": [
    {
     "data": {
      "text/plain": [
       "1.715680122199325"
      ]
     },
     "execution_count": 40,
     "metadata": {},
     "output_type": "execute_result"
    }
   ],
   "source": [
    "np.mean(np.abs((ytest-ypred)/ytest))*100"
   ]
  },
  {
   "cell_type": "code",
   "execution_count": null,
   "id": "7fcc238f",
   "metadata": {},
   "outputs": [],
   "source": []
  }
 ],
 "metadata": {
  "kernelspec": {
   "display_name": "dsvenv",
   "language": "python",
   "name": "dsvenv"
  },
  "language_info": {
   "codemirror_mode": {
    "name": "ipython",
    "version": 3
   },
   "file_extension": ".py",
   "mimetype": "text/x-python",
   "name": "python",
   "nbconvert_exporter": "python",
   "pygments_lexer": "ipython3",
   "version": "3.10.11"
  },
  "varInspector": {
   "cols": {
    "lenName": 16,
    "lenType": 16,
    "lenVar": 40
   },
   "kernels_config": {
    "python": {
     "delete_cmd_postfix": "",
     "delete_cmd_prefix": "del ",
     "library": "var_list.py",
     "varRefreshCmd": "print(var_dic_list())"
    },
    "r": {
     "delete_cmd_postfix": ") ",
     "delete_cmd_prefix": "rm(",
     "library": "var_list.r",
     "varRefreshCmd": "cat(var_dic_list()) "
    }
   },
   "types_to_exclude": [
    "module",
    "function",
    "builtin_function_or_method",
    "instance",
    "_Feature"
   ],
   "window_display": false
  }
 },
 "nbformat": 4,
 "nbformat_minor": 5
}
