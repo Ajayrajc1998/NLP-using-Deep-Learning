{
 "cells": [
  {
   "cell_type": "code",
   "execution_count": 1,
   "id": "eba59327",
   "metadata": {},
   "outputs": [],
   "source": [
    "import pandas as pd"
   ]
  },
  {
   "cell_type": "code",
   "execution_count": 11,
   "id": "c55587d6",
   "metadata": {},
   "outputs": [
    {
     "data": {
      "text/html": [
       "<div>\n",
       "<style scoped>\n",
       "    .dataframe tbody tr th:only-of-type {\n",
       "        vertical-align: middle;\n",
       "    }\n",
       "\n",
       "    .dataframe tbody tr th {\n",
       "        vertical-align: top;\n",
       "    }\n",
       "\n",
       "    .dataframe thead th {\n",
       "        text-align: right;\n",
       "    }\n",
       "</style>\n",
       "<table border=\"1\" class=\"dataframe\">\n",
       "  <thead>\n",
       "    <tr style=\"text-align: right;\">\n",
       "      <th></th>\n",
       "      <th>Date</th>\n",
       "      <th>store</th>\n",
       "      <th>product</th>\n",
       "      <th>number_sold</th>\n",
       "    </tr>\n",
       "  </thead>\n",
       "  <tbody>\n",
       "    <tr>\n",
       "      <th>0</th>\n",
       "      <td>2010-01-01</td>\n",
       "      <td>0</td>\n",
       "      <td>0</td>\n",
       "      <td>801</td>\n",
       "    </tr>\n",
       "    <tr>\n",
       "      <th>1</th>\n",
       "      <td>2010-01-02</td>\n",
       "      <td>0</td>\n",
       "      <td>0</td>\n",
       "      <td>810</td>\n",
       "    </tr>\n",
       "    <tr>\n",
       "      <th>2</th>\n",
       "      <td>2010-01-03</td>\n",
       "      <td>0</td>\n",
       "      <td>0</td>\n",
       "      <td>818</td>\n",
       "    </tr>\n",
       "    <tr>\n",
       "      <th>3</th>\n",
       "      <td>2010-01-04</td>\n",
       "      <td>0</td>\n",
       "      <td>0</td>\n",
       "      <td>796</td>\n",
       "    </tr>\n",
       "    <tr>\n",
       "      <th>4</th>\n",
       "      <td>2010-01-05</td>\n",
       "      <td>0</td>\n",
       "      <td>0</td>\n",
       "      <td>808</td>\n",
       "    </tr>\n",
       "  </tbody>\n",
       "</table>\n",
       "</div>"
      ],
      "text/plain": [
       "         Date  store  product  number_sold\n",
       "0  2010-01-01      0        0          801\n",
       "1  2010-01-02      0        0          810\n",
       "2  2010-01-03      0        0          818\n",
       "3  2010-01-04      0        0          796\n",
       "4  2010-01-05      0        0          808"
      ]
     },
     "execution_count": 11,
     "metadata": {},
     "output_type": "execute_result"
    }
   ],
   "source": [
    "df=pd.read_csv('time.csv')\n",
    "df.head()"
   ]
  },
  {
   "cell_type": "code",
   "execution_count": 12,
   "id": "0f6ee5f6",
   "metadata": {},
   "outputs": [
    {
     "name": "stdout",
     "output_type": "stream",
     "text": [
      "<class 'pandas.core.frame.DataFrame'>\n",
      "RangeIndex: 230090 entries, 0 to 230089\n",
      "Data columns (total 4 columns):\n",
      " #   Column       Non-Null Count   Dtype \n",
      "---  ------       --------------   ----- \n",
      " 0   Date         230090 non-null  object\n",
      " 1   store        230090 non-null  int64 \n",
      " 2   product      230090 non-null  int64 \n",
      " 3   number_sold  230090 non-null  int64 \n",
      "dtypes: int64(3), object(1)\n",
      "memory usage: 7.0+ MB\n"
     ]
    }
   ],
   "source": [
    "df.info()"
   ]
  },
  {
   "cell_type": "code",
   "execution_count": 20,
   "id": "0c358f39",
   "metadata": {},
   "outputs": [],
   "source": [
    "sample=df.sample(n=1000)"
   ]
  },
  {
   "cell_type": "code",
   "execution_count": 24,
   "id": "53a9e638",
   "metadata": {},
   "outputs": [
    {
     "data": {
      "text/html": [
       "<div>\n",
       "<style scoped>\n",
       "    .dataframe tbody tr th:only-of-type {\n",
       "        vertical-align: middle;\n",
       "    }\n",
       "\n",
       "    .dataframe tbody tr th {\n",
       "        vertical-align: top;\n",
       "    }\n",
       "\n",
       "    .dataframe thead th {\n",
       "        text-align: right;\n",
       "    }\n",
       "</style>\n",
       "<table border=\"1\" class=\"dataframe\">\n",
       "  <thead>\n",
       "    <tr style=\"text-align: right;\">\n",
       "      <th></th>\n",
       "      <th>Date</th>\n",
       "      <th>store</th>\n",
       "      <th>product</th>\n",
       "      <th>number_sold</th>\n",
       "    </tr>\n",
       "  </thead>\n",
       "  <tbody>\n",
       "    <tr>\n",
       "      <th>34134</th>\n",
       "      <td>2013-06-18</td>\n",
       "      <td>1</td>\n",
       "      <td>0</td>\n",
       "      <td>674</td>\n",
       "    </tr>\n",
       "    <tr>\n",
       "      <th>188647</th>\n",
       "      <td>2013-07-12</td>\n",
       "      <td>5</td>\n",
       "      <td>7</td>\n",
       "      <td>899</td>\n",
       "    </tr>\n",
       "    <tr>\n",
       "      <th>77670</th>\n",
       "      <td>2015-09-01</td>\n",
       "      <td>2</td>\n",
       "      <td>3</td>\n",
       "      <td>787</td>\n",
       "    </tr>\n",
       "    <tr>\n",
       "      <th>40532</th>\n",
       "      <td>2012-12-24</td>\n",
       "      <td>1</td>\n",
       "      <td>2</td>\n",
       "      <td>719</td>\n",
       "    </tr>\n",
       "    <tr>\n",
       "      <th>26958</th>\n",
       "      <td>2011-10-25</td>\n",
       "      <td>0</td>\n",
       "      <td>8</td>\n",
       "      <td>667</td>\n",
       "    </tr>\n",
       "  </tbody>\n",
       "</table>\n",
       "</div>"
      ],
      "text/plain": [
       "              Date  store  product  number_sold\n",
       "34134   2013-06-18      1        0          674\n",
       "188647  2013-07-12      5        7          899\n",
       "77670   2015-09-01      2        3          787\n",
       "40532   2012-12-24      1        2          719\n",
       "26958   2011-10-25      0        8          667"
      ]
     },
     "execution_count": 24,
     "metadata": {},
     "output_type": "execute_result"
    }
   ],
   "source": [
    "sample.head()"
   ]
  },
  {
   "cell_type": "code",
   "execution_count": 43,
   "id": "b2852962",
   "metadata": {},
   "outputs": [],
   "source": [
    "from sklearn.preprocessing import MinMaxScaler\n",
    "scaler=MinMaxScaler()\n",
    "sample['number_sold']=scaler.fit_transform(np.array(sample['number_sold']).reshape(-1,1))"
   ]
  },
  {
   "cell_type": "code",
   "execution_count": 44,
   "id": "ab9bc917",
   "metadata": {},
   "outputs": [],
   "source": [
    "look_back=980\n",
    "look_ahead=20\n",
    "X = []\n",
    "y = []\n",
    "\n",
    "for i in range(len(sample) - look_back - look_ahead + 1):\n",
    "    X.append(sample['number_sold'].values[i:i+look_back])\n",
    "    y.append(sample['number_sold'].values[i+look_back:i+look_back+look_ahead])\n",
    "\n",
    "X = np.array(X)\n",
    "y = np.array(y)"
   ]
  },
  {
   "cell_type": "code",
   "execution_count": 45,
   "id": "47e7ecee",
   "metadata": {},
   "outputs": [
    {
     "data": {
      "text/plain": [
       "array([[0.0554939 , 0.6581576 , 0.74250832, 0.86459489, 0.62264151,\n",
       "        0.60932297, 0.74139845, 0.54384018, 0.55382908, 0.67702553,\n",
       "        0.78135405, 0.618202  , 0.63041065, 0.49722531, 0.74028857,\n",
       "        0.69811321, 0.59711432, 0.78246393, 0.7436182 , 0.79578246]])"
      ]
     },
     "execution_count": 45,
     "metadata": {},
     "output_type": "execute_result"
    }
   ],
   "source": [
    "y"
   ]
  },
  {
   "cell_type": "code",
   "execution_count": 46,
   "id": "82b97612",
   "metadata": {},
   "outputs": [
    {
     "name": "stdout",
     "output_type": "stream",
     "text": [
      "Epoch 1/50\n",
      "1/1 [==============================] - 1s 697ms/step - loss: 0.5276\n",
      "Epoch 2/50\n",
      "1/1 [==============================] - 0s 61ms/step - loss: 0.4263\n",
      "Epoch 3/50\n",
      "1/1 [==============================] - 0s 60ms/step - loss: 0.3606\n",
      "Epoch 4/50\n",
      "1/1 [==============================] - 0s 62ms/step - loss: 0.3121\n",
      "Epoch 5/50\n",
      "1/1 [==============================] - 0s 61ms/step - loss: 0.2735\n",
      "Epoch 6/50\n",
      "1/1 [==============================] - 0s 60ms/step - loss: 0.2419\n",
      "Epoch 7/50\n",
      "1/1 [==============================] - 0s 62ms/step - loss: 0.2146\n",
      "Epoch 8/50\n",
      "1/1 [==============================] - 0s 62ms/step - loss: 0.1896\n",
      "Epoch 9/50\n",
      "1/1 [==============================] - 0s 63ms/step - loss: 0.1661\n",
      "Epoch 10/50\n",
      "1/1 [==============================] - 0s 58ms/step - loss: 0.1443\n",
      "Epoch 11/50\n",
      "1/1 [==============================] - 0s 61ms/step - loss: 0.1246\n",
      "Epoch 12/50\n",
      "1/1 [==============================] - 0s 63ms/step - loss: 0.1072\n",
      "Epoch 13/50\n",
      "1/1 [==============================] - 0s 59ms/step - loss: 0.0917\n",
      "Epoch 14/50\n",
      "1/1 [==============================] - 0s 59ms/step - loss: 0.0779\n",
      "Epoch 15/50\n",
      "1/1 [==============================] - 0s 61ms/step - loss: 0.0653\n",
      "Epoch 16/50\n",
      "1/1 [==============================] - 0s 60ms/step - loss: 0.0539\n",
      "Epoch 17/50\n",
      "1/1 [==============================] - 0s 58ms/step - loss: 0.0439\n",
      "Epoch 18/50\n",
      "1/1 [==============================] - 0s 58ms/step - loss: 0.0353\n",
      "Epoch 19/50\n",
      "1/1 [==============================] - 0s 61ms/step - loss: 0.0282\n",
      "Epoch 20/50\n",
      "1/1 [==============================] - 0s 63ms/step - loss: 0.0225\n",
      "Epoch 21/50\n",
      "1/1 [==============================] - 0s 66ms/step - loss: 0.0181\n",
      "Epoch 22/50\n",
      "1/1 [==============================] - 0s 64ms/step - loss: 0.0147\n",
      "Epoch 23/50\n",
      "1/1 [==============================] - 0s 81ms/step - loss: 0.0122\n",
      "Epoch 24/50\n",
      "1/1 [==============================] - 0s 92ms/step - loss: 0.0103\n",
      "Epoch 25/50\n",
      "1/1 [==============================] - 0s 61ms/step - loss: 0.0089\n",
      "Epoch 26/50\n",
      "1/1 [==============================] - 0s 61ms/step - loss: 0.0079\n",
      "Epoch 27/50\n",
      "1/1 [==============================] - 0s 61ms/step - loss: 0.0071\n",
      "Epoch 28/50\n",
      "1/1 [==============================] - 0s 61ms/step - loss: 0.0065\n",
      "Epoch 29/50\n",
      "1/1 [==============================] - 0s 60ms/step - loss: 0.0060\n",
      "Epoch 30/50\n",
      "1/1 [==============================] - 0s 62ms/step - loss: 0.0055\n",
      "Epoch 31/50\n",
      "1/1 [==============================] - 0s 61ms/step - loss: 0.0050\n",
      "Epoch 32/50\n",
      "1/1 [==============================] - 0s 61ms/step - loss: 0.0045\n",
      "Epoch 33/50\n",
      "1/1 [==============================] - 0s 62ms/step - loss: 0.0041\n",
      "Epoch 34/50\n",
      "1/1 [==============================] - 0s 62ms/step - loss: 0.0038\n",
      "Epoch 35/50\n",
      "1/1 [==============================] - 0s 64ms/step - loss: 0.0036\n",
      "Epoch 36/50\n",
      "1/1 [==============================] - 0s 63ms/step - loss: 0.0035\n",
      "Epoch 37/50\n",
      "1/1 [==============================] - 0s 61ms/step - loss: 0.0034\n",
      "Epoch 38/50\n",
      "1/1 [==============================] - 0s 62ms/step - loss: 0.0033\n",
      "Epoch 39/50\n",
      "1/1 [==============================] - 0s 60ms/step - loss: 0.0032\n",
      "Epoch 40/50\n",
      "1/1 [==============================] - 0s 62ms/step - loss: 0.0031\n",
      "Epoch 41/50\n",
      "1/1 [==============================] - 0s 60ms/step - loss: 0.0030\n",
      "Epoch 42/50\n",
      "1/1 [==============================] - 0s 61ms/step - loss: 0.0028\n",
      "Epoch 43/50\n",
      "1/1 [==============================] - 0s 61ms/step - loss: 0.0027\n",
      "Epoch 44/50\n",
      "1/1 [==============================] - 0s 64ms/step - loss: 0.0024\n",
      "Epoch 45/50\n",
      "1/1 [==============================] - 0s 64ms/step - loss: 0.0022\n",
      "Epoch 46/50\n",
      "1/1 [==============================] - 0s 59ms/step - loss: 0.0020\n",
      "Epoch 47/50\n",
      "1/1 [==============================] - 0s 62ms/step - loss: 0.0018\n",
      "Epoch 48/50\n",
      "1/1 [==============================] - 0s 66ms/step - loss: 0.0016\n",
      "Epoch 49/50\n",
      "1/1 [==============================] - 0s 65ms/step - loss: 0.0014\n",
      "Epoch 50/50\n",
      "1/1 [==============================] - 0s 63ms/step - loss: 0.0012\n"
     ]
    },
    {
     "data": {
      "text/plain": [
       "<keras.callbacks.History at 0x265bc7b2b90>"
      ]
     },
     "execution_count": 46,
     "metadata": {},
     "output_type": "execute_result"
    }
   ],
   "source": [
    "import numpy as np\n",
    "import tensorflow as tf\n",
    "from tensorflow.keras.models import Sequential\n",
    "from tensorflow.keras.layers import SimpleRNN, Dense\n",
    "X=np.reshape(X,(X.shape[0],X.shape[1],1))\n",
    "model=Sequential()\n",
    "model.add(SimpleRNN(50, input_shape=(look_back, 1)))\n",
    "model.add(Dense(look_ahead))\n",
    "model.compile(loss='mean_squared_error', optimizer='adam')\n",
    "model.fit(X, y, epochs=50, batch_size=1)"
   ]
  },
  {
   "cell_type": "code",
   "execution_count": 47,
   "id": "9804d4a5",
   "metadata": {},
   "outputs": [
    {
     "name": "stdout",
     "output_type": "stream",
     "text": [
      "1/1 [==============================] - 0s 127ms/step\n"
     ]
    }
   ],
   "source": [
    "last_sequence = np.array(sample['number_sold'][-look_back:])\n",
    "last_sequence = np.reshape(last_sequence, (1, look_back, 1))\n",
    "forecast = model.predict(last_sequence)"
   ]
  },
  {
   "cell_type": "code",
   "execution_count": 48,
   "id": "9f42ba1f",
   "metadata": {},
   "outputs": [
    {
     "data": {
      "text/plain": [
       "array([[-0.04844244,  0.4375052 ,  0.7136353 ,  0.80938977,  0.6398079 ,\n",
       "         0.28070268,  0.7266433 ,  0.35992438,  0.37619466,  0.49071217,\n",
       "         0.77741146,  0.7320699 ,  0.6075617 ,  0.6797605 ,  0.7394335 ,\n",
       "         0.48818815,  0.2956022 ,  1.031847  ,  0.79702526,  0.99053633]],\n",
       "      dtype=float32)"
      ]
     },
     "execution_count": 48,
     "metadata": {},
     "output_type": "execute_result"
    }
   ],
   "source": [
    "forecast"
   ]
  },
  {
   "cell_type": "code",
   "execution_count": 49,
   "id": "1140f337",
   "metadata": {},
   "outputs": [
    {
     "data": {
      "text/plain": [
       "array([[0.0554939 , 0.6581576 , 0.74250832, 0.86459489, 0.62264151,\n",
       "        0.60932297, 0.74139845, 0.54384018, 0.55382908, 0.67702553,\n",
       "        0.78135405, 0.618202  , 0.63041065, 0.49722531, 0.74028857,\n",
       "        0.69811321, 0.59711432, 0.78246393, 0.7436182 , 0.79578246]])"
      ]
     },
     "execution_count": 49,
     "metadata": {},
     "output_type": "execute_result"
    }
   ],
   "source": [
    "y"
   ]
  },
  {
   "cell_type": "code",
   "execution_count": 53,
   "id": "c5ca929c",
   "metadata": {},
   "outputs": [],
   "source": [
    "ytest=scaler.inverse_transform(y)"
   ]
  },
  {
   "cell_type": "code",
   "execution_count": 54,
   "id": "bca9e4dd",
   "metadata": {},
   "outputs": [],
   "source": [
    "ypred=scaler.inverse_transform(forecast)"
   ]
  },
  {
   "cell_type": "code",
   "execution_count": 55,
   "id": "dc68e3f4",
   "metadata": {},
   "outputs": [
    {
     "data": {
      "text/plain": [
       "15.32735134689581"
      ]
     },
     "execution_count": 55,
     "metadata": {},
     "output_type": "execute_result"
    }
   ],
   "source": [
    "MAPE = np.abs((ytest - ypred) / ytest)\n",
    "np.mean(MAPE)*100"
   ]
  },
  {
   "cell_type": "code",
   "execution_count": 80,
   "id": "8c90b9f5",
   "metadata": {},
   "outputs": [
    {
     "data": {
      "text/html": [
       "<div>\n",
       "<style scoped>\n",
       "    .dataframe tbody tr th:only-of-type {\n",
       "        vertical-align: middle;\n",
       "    }\n",
       "\n",
       "    .dataframe tbody tr th {\n",
       "        vertical-align: top;\n",
       "    }\n",
       "\n",
       "    .dataframe thead th {\n",
       "        text-align: right;\n",
       "    }\n",
       "</style>\n",
       "<table border=\"1\" class=\"dataframe\">\n",
       "  <thead>\n",
       "    <tr style=\"text-align: right;\">\n",
       "      <th></th>\n",
       "      <th>Predicted</th>\n",
       "      <th>True</th>\n",
       "    </tr>\n",
       "  </thead>\n",
       "  <tbody>\n",
       "    <tr>\n",
       "      <th>0</th>\n",
       "      <td>210.353363</td>\n",
       "      <td>304.0</td>\n",
       "    </tr>\n",
       "    <tr>\n",
       "      <th>1</th>\n",
       "      <td>648.192200</td>\n",
       "      <td>847.0</td>\n",
       "    </tr>\n",
       "    <tr>\n",
       "      <th>2</th>\n",
       "      <td>896.985413</td>\n",
       "      <td>923.0</td>\n",
       "    </tr>\n",
       "    <tr>\n",
       "      <th>3</th>\n",
       "      <td>983.260254</td>\n",
       "      <td>1033.0</td>\n",
       "    </tr>\n",
       "    <tr>\n",
       "      <th>4</th>\n",
       "      <td>830.466919</td>\n",
       "      <td>815.0</td>\n",
       "    </tr>\n",
       "    <tr>\n",
       "      <th>5</th>\n",
       "      <td>506.913147</td>\n",
       "      <td>803.0</td>\n",
       "    </tr>\n",
       "    <tr>\n",
       "      <th>6</th>\n",
       "      <td>908.705627</td>\n",
       "      <td>922.0</td>\n",
       "    </tr>\n",
       "    <tr>\n",
       "      <th>7</th>\n",
       "      <td>578.291870</td>\n",
       "      <td>744.0</td>\n",
       "    </tr>\n",
       "    <tr>\n",
       "      <th>8</th>\n",
       "      <td>592.951355</td>\n",
       "      <td>753.0</td>\n",
       "    </tr>\n",
       "    <tr>\n",
       "      <th>9</th>\n",
       "      <td>696.131653</td>\n",
       "      <td>864.0</td>\n",
       "    </tr>\n",
       "    <tr>\n",
       "      <th>10</th>\n",
       "      <td>954.447754</td>\n",
       "      <td>958.0</td>\n",
       "    </tr>\n",
       "    <tr>\n",
       "      <th>11</th>\n",
       "      <td>913.595032</td>\n",
       "      <td>811.0</td>\n",
       "    </tr>\n",
       "    <tr>\n",
       "      <th>12</th>\n",
       "      <td>801.413086</td>\n",
       "      <td>822.0</td>\n",
       "    </tr>\n",
       "    <tr>\n",
       "      <th>13</th>\n",
       "      <td>866.464233</td>\n",
       "      <td>702.0</td>\n",
       "    </tr>\n",
       "    <tr>\n",
       "      <th>14</th>\n",
       "      <td>920.229614</td>\n",
       "      <td>921.0</td>\n",
       "    </tr>\n",
       "    <tr>\n",
       "      <th>15</th>\n",
       "      <td>693.857544</td>\n",
       "      <td>883.0</td>\n",
       "    </tr>\n",
       "    <tr>\n",
       "      <th>16</th>\n",
       "      <td>520.337585</td>\n",
       "      <td>792.0</td>\n",
       "    </tr>\n",
       "    <tr>\n",
       "      <th>17</th>\n",
       "      <td>1183.694092</td>\n",
       "      <td>959.0</td>\n",
       "    </tr>\n",
       "    <tr>\n",
       "      <th>18</th>\n",
       "      <td>972.119812</td>\n",
       "      <td>924.0</td>\n",
       "    </tr>\n",
       "    <tr>\n",
       "      <th>19</th>\n",
       "      <td>1146.473267</td>\n",
       "      <td>971.0</td>\n",
       "    </tr>\n",
       "  </tbody>\n",
       "</table>\n",
       "</div>"
      ],
      "text/plain": [
       "      Predicted    True\n",
       "0    210.353363   304.0\n",
       "1    648.192200   847.0\n",
       "2    896.985413   923.0\n",
       "3    983.260254  1033.0\n",
       "4    830.466919   815.0\n",
       "5    506.913147   803.0\n",
       "6    908.705627   922.0\n",
       "7    578.291870   744.0\n",
       "8    592.951355   753.0\n",
       "9    696.131653   864.0\n",
       "10   954.447754   958.0\n",
       "11   913.595032   811.0\n",
       "12   801.413086   822.0\n",
       "13   866.464233   702.0\n",
       "14   920.229614   921.0\n",
       "15   693.857544   883.0\n",
       "16   520.337585   792.0\n",
       "17  1183.694092   959.0\n",
       "18   972.119812   924.0\n",
       "19  1146.473267   971.0"
      ]
     },
     "execution_count": 80,
     "metadata": {},
     "output_type": "execute_result"
    }
   ],
   "source": [
    "result = pd.DataFrame({'Predicted': ypred.flatten(), 'True': ytest.flatten()})\n",
    "result"
   ]
  },
  {
   "cell_type": "code",
   "execution_count": null,
   "id": "71f556a5",
   "metadata": {},
   "outputs": [],
   "source": []
  }
 ],
 "metadata": {
  "kernelspec": {
   "display_name": "dsvenv",
   "language": "python",
   "name": "dsvenv"
  },
  "language_info": {
   "codemirror_mode": {
    "name": "ipython",
    "version": 3
   },
   "file_extension": ".py",
   "mimetype": "text/x-python",
   "name": "python",
   "nbconvert_exporter": "python",
   "pygments_lexer": "ipython3",
   "version": "3.10.11"
  },
  "varInspector": {
   "cols": {
    "lenName": 16,
    "lenType": 16,
    "lenVar": 40
   },
   "kernels_config": {
    "python": {
     "delete_cmd_postfix": "",
     "delete_cmd_prefix": "del ",
     "library": "var_list.py",
     "varRefreshCmd": "print(var_dic_list())"
    },
    "r": {
     "delete_cmd_postfix": ") ",
     "delete_cmd_prefix": "rm(",
     "library": "var_list.r",
     "varRefreshCmd": "cat(var_dic_list()) "
    }
   },
   "types_to_exclude": [
    "module",
    "function",
    "builtin_function_or_method",
    "instance",
    "_Feature"
   ],
   "window_display": false
  }
 },
 "nbformat": 4,
 "nbformat_minor": 5
}
